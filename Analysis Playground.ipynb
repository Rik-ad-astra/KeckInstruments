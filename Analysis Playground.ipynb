{
 "cells": [
  {
   "cell_type": "code",
   "execution_count": 1,
   "metadata": {},
   "outputs": [
    {
     "name": "stderr",
     "output_type": "stream",
     "text": [
      "/Users/jwalawender/anaconda/lib/python3.6/site-packages/scipy/__init__.py:115: UserWarning: Numpy 1.13.3 or above is required for this version of scipy (detected version 1.11.3)\n",
      "  UserWarning)\n"
     ]
    }
   ],
   "source": [
    "import numpy as np\n",
    "from pathlib import Path\n",
    "\n",
    "from Instruments import analysis\n",
    "from Instruments.keckdata import KeckData, KeckDataList, fits_reader"
   ]
  },
  {
   "cell_type": "code",
   "execution_count": 2,
   "metadata": {},
   "outputs": [],
   "source": [
    "p1 = Path('/Volumes/JOSHW/HIRES/2019oct11')\n",
    "p2 = Path('/Volumes/JOSHW/HIRES/2019oct12')"
   ]
  },
  {
   "cell_type": "code",
   "execution_count": 3,
   "metadata": {},
   "outputs": [],
   "source": [
    "files = sorted([f for f in p1.glob('*fits')])\n",
    "files.extend( sorted([f for f in p2.glob('*fits')]) )\n",
    "kdl = KeckDataList(files, verbose=False)"
   ]
  },
  {
   "cell_type": "code",
   "execution_count": 4,
   "metadata": {},
   "outputs": [
    {
     "name": "stderr",
     "output_type": "stream",
     "text": [
      "2019-10-14 14:18:58,731     INFO: Making master bias from 13 frames\n",
      "2019-10-14 14:18:58,735     INFO: Making master bias for each of 3 extensions\n"
     ]
    }
   ],
   "source": [
    "mb = analysis.make_master_bias(kdl)"
   ]
  },
  {
   "cell_type": "code",
   "execution_count": 5,
   "metadata": {},
   "outputs": [
    {
     "name": "stderr",
     "output_type": "stream",
     "text": [
      "2019-10-14 14:19:33,990     INFO: Determining read noise\n",
      "2019-10-14 14:19:33,992     INFO:   Checking that all inputs are BIAS frames\n",
      "2019-10-14 14:19:33,996     INFO:   Found 7 biases\n",
      "2019-10-14 14:19:33,998     INFO: Making master bias from 6 frames\n",
      "2019-10-14 14:19:33,999     INFO: Making master bias for each of 3 extensions\n",
      "2019-10-14 14:19:58,585     INFO:   Determining read noise for each of 3 extensions\n",
      "2019-10-14 14:20:03,783     INFO:   Read Noise is 1.32 adu for extension 1\n",
      "2019-10-14 14:20:08,525     INFO:   Read Noise is 1.27 adu for extension 2\n",
      "2019-10-14 14:20:13,217     INFO:   Read Noise is 1.31 adu for extension 3\n"
     ]
    }
   ],
   "source": [
    "rn = analysis.determine_read_noise(kdl, master_bias=mb)"
   ]
  },
  {
   "cell_type": "code",
   "execution_count": 6,
   "metadata": {},
   "outputs": [
    {
     "data": {
      "text/latex": [
       "$[1.3244911,~1.2676239,~1.3070939] \\; \\mathrm{adu}$"
      ],
      "text/plain": [
       "<Quantity [ 1.32449115, 1.26762389, 1.30709388] adu>"
      ]
     },
     "execution_count": 6,
     "metadata": {},
     "output_type": "execute_result"
    }
   ],
   "source": [
    "rn"
   ]
  },
  {
   "cell_type": "code",
   "execution_count": 7,
   "metadata": {},
   "outputs": [
    {
     "name": "stderr",
     "output_type": "stream",
     "text": [
      "2019-10-14 14:20:13,297     INFO: Determining dark current\n",
      "2019-10-14 14:20:13,303     INFO:   Found 6 dark frames\n",
      "2019-10-14 14:20:13,311     INFO:   Determining dark current for each of 3 extensions\n",
      "2019-10-14 14:21:23,015     INFO:   Obtained statistics for frames with 6 different exposure times\n",
      "2019-10-14 14:21:23,016     INFO:   Determining dark current from\n",
      "2019-10-14 14:21:23,017     INFO:     3 60 second darks\n",
      "2019-10-14 14:21:23,019     INFO:     3 300 second darks\n",
      "2019-10-14 14:21:23,031     INFO:   Dark Current is 0.004 adu / s for extension 1\n",
      "2019-10-14 14:21:23,036     INFO:   Dark Current is 0.007 adu / s for extension 2\n",
      "2019-10-14 14:21:23,041     INFO:   Dark Current is 0.003 adu / s for extension 3\n"
     ]
    }
   ],
   "source": [
    "dc = analysis.determine_dark_current(kdl, master_bias=mb)"
   ]
  },
  {
   "cell_type": "code",
   "execution_count": 8,
   "metadata": {},
   "outputs": [
    {
     "data": {
      "text/plain": [
       "[<Quantity 0.003588552742411784 adu / s>,\n",
       " <Quantity 0.006504373772920932 adu / s>,\n",
       " <Quantity 0.002659717698719158 adu / s>]"
      ]
     },
     "execution_count": 8,
     "metadata": {},
     "output_type": "execute_result"
    }
   ],
   "source": [
    "dc"
   ]
  },
  {
   "cell_type": "code",
   "execution_count": null,
   "metadata": {},
   "outputs": [],
   "source": []
  }
 ],
 "metadata": {
  "kernelspec": {
   "display_name": "Python 3",
   "language": "python",
   "name": "python3"
  },
  "language_info": {
   "codemirror_mode": {
    "name": "ipython",
    "version": 3
   },
   "file_extension": ".py",
   "mimetype": "text/x-python",
   "name": "python",
   "nbconvert_exporter": "python",
   "pygments_lexer": "ipython3",
   "version": "3.6.9"
  }
 },
 "nbformat": 4,
 "nbformat_minor": 2
}
